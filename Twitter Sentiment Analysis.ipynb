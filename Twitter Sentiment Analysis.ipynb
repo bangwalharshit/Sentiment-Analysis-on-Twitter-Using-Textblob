{
 "cells": [
  {
   "cell_type": "markdown",
   "id": "4f9019d1",
   "metadata": {},
   "source": [
    "### Importing Libraries"
   ]
  },
  {
   "cell_type": "code",
   "execution_count": 2,
   "id": "8261c118",
   "metadata": {},
   "outputs": [],
   "source": [
    "import tweepy\n",
    "import pandas as pd\n",
    "import numpy as np\n",
    "import matplotlib.pyplot as plt"
   ]
  },
  {
   "cell_type": "code",
   "execution_count": 3,
   "id": "a35fa0a6",
   "metadata": {},
   "outputs": [],
   "source": [
    "import warnings as wg\n",
    "wg.filterwarnings(\"ignore\")"
   ]
  },
  {
   "cell_type": "code",
   "execution_count": 4,
   "id": "46d8d24d",
   "metadata": {},
   "outputs": [],
   "source": [
    "%run ./key.ipynb"
   ]
  },
  {
   "cell_type": "markdown",
   "id": "52a60beb",
   "metadata": {},
   "source": [
    "### Connecting to jump server of twitter"
   ]
  },
  {
   "cell_type": "code",
   "execution_count": 5,
   "id": "f0682c6a",
   "metadata": {},
   "outputs": [],
   "source": [
    "auth = tweepy.OAuthHandler(consumer_key, consumer_key_sec)"
   ]
  },
  {
   "cell_type": "markdown",
   "id": "20297bc2",
   "metadata": {},
   "source": [
    "### Connecting jump server to web server of twitter"
   ]
  },
  {
   "cell_type": "code",
   "execution_count": 6,
   "id": "d35fa02b",
   "metadata": {},
   "outputs": [],
   "source": [
    "auth.set_access_token(access_token,access_token_sec)"
   ]
  },
  {
   "cell_type": "markdown",
   "id": "4bd3fd06",
   "metadata": {},
   "source": [
    "### Connecting to API Strong Server of Twitter"
   ]
  },
  {
   "cell_type": "code",
   "execution_count": 7,
   "id": "a37c3e63",
   "metadata": {},
   "outputs": [],
   "source": [
    "api = tweepy.API(auth)"
   ]
  },
  {
   "cell_type": "code",
   "execution_count": 8,
   "id": "07b40e4a",
   "metadata": {},
   "outputs": [
    {
     "name": "stdout",
     "output_type": "stream",
     "text": [
      "Keyword you need analysis on : Nifty50\n"
     ]
    }
   ],
   "source": [
    "keyword = input(\"Keyword you need analysis on : \")"
   ]
  },
  {
   "cell_type": "code",
   "execution_count": 9,
   "id": "3767055d",
   "metadata": {},
   "outputs": [],
   "source": [
    "no_of_tweets = 1000\n",
    "tweets = []\n",
    "likes = []\n",
    "time = []\n",
    "for i in tweepy.Cursor( api.search_tweets,q=keyword, tweet_mode = \"extended\").items(no_of_tweets):\n",
    "    tweets.append(i.full_text)\n",
    "    likes.append(i.favorite_count)\n",
    "    time.append(i.created_at)"
   ]
  },
  {
   "cell_type": "code",
   "execution_count": 10,
   "id": "ebc515e6",
   "metadata": {},
   "outputs": [
    {
     "data": {
      "text/html": [
       "<div>\n",
       "<style scoped>\n",
       "    .dataframe tbody tr th:only-of-type {\n",
       "        vertical-align: middle;\n",
       "    }\n",
       "\n",
       "    .dataframe tbody tr th {\n",
       "        vertical-align: top;\n",
       "    }\n",
       "\n",
       "    .dataframe thead th {\n",
       "        text-align: right;\n",
       "    }\n",
       "</style>\n",
       "<table border=\"1\" class=\"dataframe\">\n",
       "  <thead>\n",
       "    <tr style=\"text-align: right;\">\n",
       "      <th></th>\n",
       "      <th>tweets</th>\n",
       "      <th>likes</th>\n",
       "      <th>time</th>\n",
       "    </tr>\n",
       "  </thead>\n",
       "  <tbody>\n",
       "    <tr>\n",
       "      <th>0</th>\n",
       "      <td>RT @stockaficionado: ITC hits a new 52W high, ...</td>\n",
       "      <td>0</td>\n",
       "      <td>2022-07-05 13:02:07+00:00</td>\n",
       "    </tr>\n",
       "    <tr>\n",
       "      <th>1</th>\n",
       "      <td>Here is a mid-morning market update for you.\\n...</td>\n",
       "      <td>0</td>\n",
       "      <td>2022-07-05 13:01:59+00:00</td>\n",
       "    </tr>\n",
       "    <tr>\n",
       "      <th>2</th>\n",
       "      <td>#NYMEX #US CRUDE OIL future head shoulder patt...</td>\n",
       "      <td>0</td>\n",
       "      <td>2022-07-05 13:01:36+00:00</td>\n",
       "    </tr>\n",
       "    <tr>\n",
       "      <th>3</th>\n",
       "      <td>RT @option_kontrol: #OptionsTrading #intradayt...</td>\n",
       "      <td>0</td>\n",
       "      <td>2022-07-05 12:59:41+00:00</td>\n",
       "    </tr>\n",
       "    <tr>\n",
       "      <th>4</th>\n",
       "      <td>ITC hits a new 52W high, up 7.5%!!\\n\\n#itc #ni...</td>\n",
       "      <td>0</td>\n",
       "      <td>2022-07-05 12:58:36+00:00</td>\n",
       "    </tr>\n",
       "    <tr>\n",
       "      <th>...</th>\n",
       "      <td>...</td>\n",
       "      <td>...</td>\n",
       "      <td>...</td>\n",
       "    </tr>\n",
       "    <tr>\n",
       "      <th>995</th>\n",
       "      <td>🎁 ONGC \\n\\n➡️ENTRY-127.80\\n\\n☑️ TARGET-132-137...</td>\n",
       "      <td>0</td>\n",
       "      <td>2022-07-05 05:42:53+00:00</td>\n",
       "    </tr>\n",
       "    <tr>\n",
       "      <th>996</th>\n",
       "      <td>#Nifty near again to sweet 1️⃣6️⃣0️⃣0️⃣0️⃣. Ca...</td>\n",
       "      <td>3</td>\n",
       "      <td>2022-07-05 05:41:57+00:00</td>\n",
       "    </tr>\n",
       "    <tr>\n",
       "      <th>997</th>\n",
       "      <td>RT @research_head: NIFTY @75MIN CHART VIEW📊 \\n...</td>\n",
       "      <td>0</td>\n",
       "      <td>2022-07-05 05:41:40+00:00</td>\n",
       "    </tr>\n",
       "    <tr>\n",
       "      <th>998</th>\n",
       "      <td>DRIVERS,,, cautious bump ahead\\n\\ntake care\\n#...</td>\n",
       "      <td>1</td>\n",
       "      <td>2022-07-05 05:41:26+00:00</td>\n",
       "    </tr>\n",
       "    <tr>\n",
       "      <th>999</th>\n",
       "      <td>#NIFTYFUTURE days like this give option buyers...</td>\n",
       "      <td>1</td>\n",
       "      <td>2022-07-05 05:41:17+00:00</td>\n",
       "    </tr>\n",
       "  </tbody>\n",
       "</table>\n",
       "<p>1000 rows × 3 columns</p>\n",
       "</div>"
      ],
      "text/plain": [
       "                                                tweets  likes  \\\n",
       "0    RT @stockaficionado: ITC hits a new 52W high, ...      0   \n",
       "1    Here is a mid-morning market update for you.\\n...      0   \n",
       "2    #NYMEX #US CRUDE OIL future head shoulder patt...      0   \n",
       "3    RT @option_kontrol: #OptionsTrading #intradayt...      0   \n",
       "4    ITC hits a new 52W high, up 7.5%!!\\n\\n#itc #ni...      0   \n",
       "..                                                 ...    ...   \n",
       "995  🎁 ONGC \\n\\n➡️ENTRY-127.80\\n\\n☑️ TARGET-132-137...      0   \n",
       "996  #Nifty near again to sweet 1️⃣6️⃣0️⃣0️⃣0️⃣. Ca...      3   \n",
       "997  RT @research_head: NIFTY @75MIN CHART VIEW📊 \\n...      0   \n",
       "998  DRIVERS,,, cautious bump ahead\\n\\ntake care\\n#...      1   \n",
       "999  #NIFTYFUTURE days like this give option buyers...      1   \n",
       "\n",
       "                         time  \n",
       "0   2022-07-05 13:02:07+00:00  \n",
       "1   2022-07-05 13:01:59+00:00  \n",
       "2   2022-07-05 13:01:36+00:00  \n",
       "3   2022-07-05 12:59:41+00:00  \n",
       "4   2022-07-05 12:58:36+00:00  \n",
       "..                        ...  \n",
       "995 2022-07-05 05:42:53+00:00  \n",
       "996 2022-07-05 05:41:57+00:00  \n",
       "997 2022-07-05 05:41:40+00:00  \n",
       "998 2022-07-05 05:41:26+00:00  \n",
       "999 2022-07-05 05:41:17+00:00  \n",
       "\n",
       "[1000 rows x 3 columns]"
      ]
     },
     "execution_count": 10,
     "metadata": {},
     "output_type": "execute_result"
    }
   ],
   "source": [
    "df=pd.DataFrame({'tweets': tweets, 'likes':likes,'time':time})\n",
    "df"
   ]
  },
  {
   "cell_type": "markdown",
   "id": "0740f25e",
   "metadata": {},
   "source": [
    "### Cleaning tweets"
   ]
  },
  {
   "cell_type": "code",
   "execution_count": 11,
   "id": "64fa6d3d",
   "metadata": {
    "scrolled": false
   },
   "outputs": [
    {
     "data": {
      "text/html": [
       "<div>\n",
       "<style scoped>\n",
       "    .dataframe tbody tr th:only-of-type {\n",
       "        vertical-align: middle;\n",
       "    }\n",
       "\n",
       "    .dataframe tbody tr th {\n",
       "        vertical-align: top;\n",
       "    }\n",
       "\n",
       "    .dataframe thead th {\n",
       "        text-align: right;\n",
       "    }\n",
       "</style>\n",
       "<table border=\"1\" class=\"dataframe\">\n",
       "  <thead>\n",
       "    <tr style=\"text-align: right;\">\n",
       "      <th></th>\n",
       "      <th>tweets</th>\n",
       "      <th>likes</th>\n",
       "      <th>time</th>\n",
       "    </tr>\n",
       "  </thead>\n",
       "  <tbody>\n",
       "    <tr>\n",
       "      <th>0</th>\n",
       "      <td>: ITC hits a new 52W high, up 7.5%!!\\n\\nitc ni...</td>\n",
       "      <td>0</td>\n",
       "      <td>2022-07-05 13:02:07+00:00</td>\n",
       "    </tr>\n",
       "    <tr>\n",
       "      <th>1</th>\n",
       "      <td>Here is a mid-morning market update for you.\\n...</td>\n",
       "      <td>0</td>\n",
       "      <td>2022-07-05 13:01:59+00:00</td>\n",
       "    </tr>\n",
       "    <tr>\n",
       "      <th>2</th>\n",
       "      <td>NYMEX US CRUDE OIL future head shoulder patter...</td>\n",
       "      <td>0</td>\n",
       "      <td>2022-07-05 13:01:36+00:00</td>\n",
       "    </tr>\n",
       "    <tr>\n",
       "      <th>3</th>\n",
       "      <td>_kontrol: OptionsTrading intradaytrading Stock...</td>\n",
       "      <td>0</td>\n",
       "      <td>2022-07-05 12:59:41+00:00</td>\n",
       "    </tr>\n",
       "    <tr>\n",
       "      <th>4</th>\n",
       "      <td>ITC hits a new 52W high, up 7.5%!!\\n\\nitc nift...</td>\n",
       "      <td>0</td>\n",
       "      <td>2022-07-05 12:58:36+00:00</td>\n",
       "    </tr>\n",
       "    <tr>\n",
       "      <th>...</th>\n",
       "      <td>...</td>\n",
       "      <td>...</td>\n",
       "      <td>...</td>\n",
       "    </tr>\n",
       "    <tr>\n",
       "      <th>995</th>\n",
       "      <td>🎁 ONGC \\n\\n➡️ENTRY-127.80\\n\\n☑️ TARGET-132-137...</td>\n",
       "      <td>0</td>\n",
       "      <td>2022-07-05 05:42:53+00:00</td>\n",
       "    </tr>\n",
       "    <tr>\n",
       "      <th>996</th>\n",
       "      <td>Nifty near again to sweet 1️⃣6️⃣0️⃣0️⃣0️⃣. Can...</td>\n",
       "      <td>3</td>\n",
       "      <td>2022-07-05 05:41:57+00:00</td>\n",
       "    </tr>\n",
       "    <tr>\n",
       "      <th>997</th>\n",
       "      <td>_head: NIFTY  CHAVIEW📊 \\n\\n15503 ==&amp;gt; 15999+...</td>\n",
       "      <td>0</td>\n",
       "      <td>2022-07-05 05:41:40+00:00</td>\n",
       "    </tr>\n",
       "    <tr>\n",
       "      <th>998</th>\n",
       "      <td>DRIVERS,,, cautious bump ahead\\n\\ntake care\\nn...</td>\n",
       "      <td>1</td>\n",
       "      <td>2022-07-05 05:41:26+00:00</td>\n",
       "    </tr>\n",
       "    <tr>\n",
       "      <th>999</th>\n",
       "      <td>NIFTYFUTURE days like this give option buyers ...</td>\n",
       "      <td>1</td>\n",
       "      <td>2022-07-05 05:41:17+00:00</td>\n",
       "    </tr>\n",
       "  </tbody>\n",
       "</table>\n",
       "<p>1000 rows × 3 columns</p>\n",
       "</div>"
      ],
      "text/plain": [
       "                                                tweets  likes  \\\n",
       "0    : ITC hits a new 52W high, up 7.5%!!\\n\\nitc ni...      0   \n",
       "1    Here is a mid-morning market update for you.\\n...      0   \n",
       "2    NYMEX US CRUDE OIL future head shoulder patter...      0   \n",
       "3    _kontrol: OptionsTrading intradaytrading Stock...      0   \n",
       "4    ITC hits a new 52W high, up 7.5%!!\\n\\nitc nift...      0   \n",
       "..                                                 ...    ...   \n",
       "995  🎁 ONGC \\n\\n➡️ENTRY-127.80\\n\\n☑️ TARGET-132-137...      0   \n",
       "996  Nifty near again to sweet 1️⃣6️⃣0️⃣0️⃣0️⃣. Can...      3   \n",
       "997  _head: NIFTY  CHAVIEW📊 \\n\\n15503 ==&gt; 15999+...      0   \n",
       "998  DRIVERS,,, cautious bump ahead\\n\\ntake care\\nn...      1   \n",
       "999  NIFTYFUTURE days like this give option buyers ...      1   \n",
       "\n",
       "                         time  \n",
       "0   2022-07-05 13:02:07+00:00  \n",
       "1   2022-07-05 13:01:59+00:00  \n",
       "2   2022-07-05 13:01:36+00:00  \n",
       "3   2022-07-05 12:59:41+00:00  \n",
       "4   2022-07-05 12:58:36+00:00  \n",
       "..                        ...  \n",
       "995 2022-07-05 05:42:53+00:00  \n",
       "996 2022-07-05 05:41:57+00:00  \n",
       "997 2022-07-05 05:41:40+00:00  \n",
       "998 2022-07-05 05:41:26+00:00  \n",
       "999 2022-07-05 05:41:17+00:00  \n",
       "\n",
       "[1000 rows x 3 columns]"
      ]
     },
     "execution_count": 11,
     "metadata": {},
     "output_type": "execute_result"
    }
   ],
   "source": [
    "import re\n",
    "def cleanTxt(text):\n",
    "    text = re.sub(r\"@[A-Za-z0-9]+\" , '', text)        #remove @mentions\n",
    "    text = re.sub(r'#', '', text)                     #removing \"#\" symbol\n",
    "    text = re.sub(r'RT[\\s]+', '', text)               # removing RT(retweets)\n",
    "    text = re.sub(r'https?:\\/\\/\\S+', '', text)        # remove the hyper link\n",
    "    return text\n",
    "df[\"tweets\"]=df[\"tweets\"].apply(cleanTxt)\n",
    "df"
   ]
  },
  {
   "cell_type": "code",
   "execution_count": 12,
   "id": "085daf18",
   "metadata": {
    "scrolled": true
   },
   "outputs": [
    {
     "data": {
      "text/html": [
       "<div>\n",
       "<style scoped>\n",
       "    .dataframe tbody tr th:only-of-type {\n",
       "        vertical-align: middle;\n",
       "    }\n",
       "\n",
       "    .dataframe tbody tr th {\n",
       "        vertical-align: top;\n",
       "    }\n",
       "\n",
       "    .dataframe thead th {\n",
       "        text-align: right;\n",
       "    }\n",
       "</style>\n",
       "<table border=\"1\" class=\"dataframe\">\n",
       "  <thead>\n",
       "    <tr style=\"text-align: right;\">\n",
       "      <th></th>\n",
       "      <th>tweets</th>\n",
       "      <th>likes</th>\n",
       "      <th>time</th>\n",
       "    </tr>\n",
       "  </thead>\n",
       "  <tbody>\n",
       "    <tr>\n",
       "      <th>869</th>\n",
       "      <td>nifty50 NiftyBank NIFTYMETAL NIFTYIT</td>\n",
       "      <td>53</td>\n",
       "      <td>2022-07-05 06:35:25+00:00</td>\n",
       "    </tr>\n",
       "    <tr>\n",
       "      <th>942</th>\n",
       "      <td>Nifty50 is in a pattern, derivative traders sh...</td>\n",
       "      <td>41</td>\n",
       "      <td>2022-07-05 06:07:35+00:00</td>\n",
       "    </tr>\n",
       "    <tr>\n",
       "      <th>461</th>\n",
       "      <td>Predicted at 1:43 pm that data looks bearish a...</td>\n",
       "      <td>36</td>\n",
       "      <td>2022-07-05 09:56:12+00:00</td>\n",
       "    </tr>\n",
       "    <tr>\n",
       "      <th>207</th>\n",
       "      <td>Market Update for the day. \\nSee more&amp;gt;  \\n ...</td>\n",
       "      <td>34</td>\n",
       "      <td>2022-07-05 11:13:38+00:00</td>\n",
       "    </tr>\n",
       "    <tr>\n",
       "      <th>513</th>\n",
       "      <td>DXY may not create more panic now.\\nNifty50 is...</td>\n",
       "      <td>32</td>\n",
       "      <td>2022-07-05 09:39:06+00:00</td>\n",
       "    </tr>\n",
       "    <tr>\n",
       "      <th>613</th>\n",
       "      <td>nifty50\\nKhel gaya lollypop deke</td>\n",
       "      <td>24</td>\n",
       "      <td>2022-07-05 08:46:16+00:00</td>\n",
       "    </tr>\n",
       "    <tr>\n",
       "      <th>761</th>\n",
       "      <td>Nifty50 (in Real Value) didn't break March 202...</td>\n",
       "      <td>23</td>\n",
       "      <td>2022-07-05 07:24:16+00:00</td>\n",
       "    </tr>\n",
       "    <tr>\n",
       "      <th>863</th>\n",
       "      <td>Double Ingress and Bayers Date worked again..\\...</td>\n",
       "      <td>23</td>\n",
       "      <td>2022-07-05 06:38:52+00:00</td>\n",
       "    </tr>\n",
       "    <tr>\n",
       "      <th>790</th>\n",
       "      <td>Nifty50 has gradually rallied +700Pts and Bank...</td>\n",
       "      <td>20</td>\n",
       "      <td>2022-07-05 07:15:16+00:00</td>\n",
       "    </tr>\n",
       "    <tr>\n",
       "      <th>840</th>\n",
       "      <td>Today's profit 80K👍👍\\nThanks to  🙏🙏\\n\\nInvestm...</td>\n",
       "      <td>20</td>\n",
       "      <td>2022-07-05 06:49:09+00:00</td>\n",
       "    </tr>\n",
       "  </tbody>\n",
       "</table>\n",
       "</div>"
      ],
      "text/plain": [
       "                                                tweets  likes  \\\n",
       "869              nifty50 NiftyBank NIFTYMETAL NIFTYIT      53   \n",
       "942  Nifty50 is in a pattern, derivative traders sh...     41   \n",
       "461  Predicted at 1:43 pm that data looks bearish a...     36   \n",
       "207  Market Update for the day. \\nSee more&gt;  \\n ...     34   \n",
       "513  DXY may not create more panic now.\\nNifty50 is...     32   \n",
       "613                   nifty50\\nKhel gaya lollypop deke     24   \n",
       "761  Nifty50 (in Real Value) didn't break March 202...     23   \n",
       "863  Double Ingress and Bayers Date worked again..\\...     23   \n",
       "790  Nifty50 has gradually rallied +700Pts and Bank...     20   \n",
       "840  Today's profit 80K👍👍\\nThanks to  🙏🙏\\n\\nInvestm...     20   \n",
       "\n",
       "                         time  \n",
       "869 2022-07-05 06:35:25+00:00  \n",
       "942 2022-07-05 06:07:35+00:00  \n",
       "461 2022-07-05 09:56:12+00:00  \n",
       "207 2022-07-05 11:13:38+00:00  \n",
       "513 2022-07-05 09:39:06+00:00  \n",
       "613 2022-07-05 08:46:16+00:00  \n",
       "761 2022-07-05 07:24:16+00:00  \n",
       "863 2022-07-05 06:38:52+00:00  \n",
       "790 2022-07-05 07:15:16+00:00  \n",
       "840 2022-07-05 06:49:09+00:00  "
      ]
     },
     "execution_count": 12,
     "metadata": {},
     "output_type": "execute_result"
    }
   ],
   "source": [
    "mostlike = df.loc[df.likes.nlargest(10).index]\n",
    "mostlike"
   ]
  },
  {
   "cell_type": "code",
   "execution_count": 13,
   "id": "a4b4a40d",
   "metadata": {},
   "outputs": [],
   "source": [
    "from textblob import TextBlob"
   ]
  },
  {
   "cell_type": "markdown",
   "id": "14fc434d",
   "metadata": {},
   "source": [
    "### Creating a function to get subjectivity"
   ]
  },
  {
   "cell_type": "code",
   "execution_count": 14,
   "id": "c9ecfdbe",
   "metadata": {},
   "outputs": [],
   "source": [
    "def getSubjectivity(text):\n",
    "    return TextBlob(text).sentiment.subjectivity             "
   ]
  },
  {
   "cell_type": "markdown",
   "id": "e5afcb74",
   "metadata": {},
   "source": [
    "### Creating  a function to get the polarity"
   ]
  },
  {
   "cell_type": "code",
   "execution_count": 15,
   "id": "b431d6d4",
   "metadata": {},
   "outputs": [],
   "source": [
    "def getPolarity(text):\n",
    "    return TextBlob(text).sentiment.polarity"
   ]
  },
  {
   "cell_type": "markdown",
   "id": "e59ab74f",
   "metadata": {},
   "source": [
    "##### Creating two new columns for getting subjectivity and polarity"
   ]
  },
  {
   "cell_type": "code",
   "execution_count": 16,
   "id": "a3266918",
   "metadata": {},
   "outputs": [
    {
     "data": {
      "text/html": [
       "<div>\n",
       "<style scoped>\n",
       "    .dataframe tbody tr th:only-of-type {\n",
       "        vertical-align: middle;\n",
       "    }\n",
       "\n",
       "    .dataframe tbody tr th {\n",
       "        vertical-align: top;\n",
       "    }\n",
       "\n",
       "    .dataframe thead th {\n",
       "        text-align: right;\n",
       "    }\n",
       "</style>\n",
       "<table border=\"1\" class=\"dataframe\">\n",
       "  <thead>\n",
       "    <tr style=\"text-align: right;\">\n",
       "      <th></th>\n",
       "      <th>tweets</th>\n",
       "      <th>likes</th>\n",
       "      <th>time</th>\n",
       "      <th>Subjectivity</th>\n",
       "      <th>Polarity</th>\n",
       "    </tr>\n",
       "  </thead>\n",
       "  <tbody>\n",
       "    <tr>\n",
       "      <th>0</th>\n",
       "      <td>: ITC hits a new 52W high, up 7.5%!!\\n\\nitc ni...</td>\n",
       "      <td>0</td>\n",
       "      <td>2022-07-05 13:02:07+00:00</td>\n",
       "      <td>0.497273</td>\n",
       "      <td>0.193182</td>\n",
       "    </tr>\n",
       "    <tr>\n",
       "      <th>1</th>\n",
       "      <td>Here is a mid-morning market update for you.\\n...</td>\n",
       "      <td>0</td>\n",
       "      <td>2022-07-05 13:01:59+00:00</td>\n",
       "      <td>0.500000</td>\n",
       "      <td>0.000000</td>\n",
       "    </tr>\n",
       "    <tr>\n",
       "      <th>2</th>\n",
       "      <td>NYMEX US CRUDE OIL future head shoulder patter...</td>\n",
       "      <td>0</td>\n",
       "      <td>2022-07-05 13:01:36+00:00</td>\n",
       "      <td>0.562500</td>\n",
       "      <td>-0.350000</td>\n",
       "    </tr>\n",
       "    <tr>\n",
       "      <th>3</th>\n",
       "      <td>_kontrol: OptionsTrading intradaytrading Stock...</td>\n",
       "      <td>0</td>\n",
       "      <td>2022-07-05 12:59:41+00:00</td>\n",
       "      <td>1.000000</td>\n",
       "      <td>0.976562</td>\n",
       "    </tr>\n",
       "    <tr>\n",
       "      <th>4</th>\n",
       "      <td>ITC hits a new 52W high, up 7.5%!!\\n\\nitc nift...</td>\n",
       "      <td>0</td>\n",
       "      <td>2022-07-05 12:58:36+00:00</td>\n",
       "      <td>0.497273</td>\n",
       "      <td>0.193182</td>\n",
       "    </tr>\n",
       "    <tr>\n",
       "      <th>...</th>\n",
       "      <td>...</td>\n",
       "      <td>...</td>\n",
       "      <td>...</td>\n",
       "      <td>...</td>\n",
       "      <td>...</td>\n",
       "    </tr>\n",
       "    <tr>\n",
       "      <th>995</th>\n",
       "      <td>🎁 ONGC \\n\\n➡️ENTRY-127.80\\n\\n☑️ TARGET-132-137...</td>\n",
       "      <td>0</td>\n",
       "      <td>2022-07-05 05:42:53+00:00</td>\n",
       "      <td>0.000000</td>\n",
       "      <td>0.000000</td>\n",
       "    </tr>\n",
       "    <tr>\n",
       "      <th>996</th>\n",
       "      <td>Nifty near again to sweet 1️⃣6️⃣0️⃣0️⃣0️⃣. Can...</td>\n",
       "      <td>3</td>\n",
       "      <td>2022-07-05 05:41:57+00:00</td>\n",
       "      <td>0.318750</td>\n",
       "      <td>0.112500</td>\n",
       "    </tr>\n",
       "    <tr>\n",
       "      <th>997</th>\n",
       "      <td>_head: NIFTY  CHAVIEW📊 \\n\\n15503 ==&amp;gt; 15999+...</td>\n",
       "      <td>0</td>\n",
       "      <td>2022-07-05 05:41:40+00:00</td>\n",
       "      <td>0.000000</td>\n",
       "      <td>0.000000</td>\n",
       "    </tr>\n",
       "    <tr>\n",
       "      <th>998</th>\n",
       "      <td>DRIVERS,,, cautious bump ahead\\n\\ntake care\\nn...</td>\n",
       "      <td>1</td>\n",
       "      <td>2022-07-05 05:41:26+00:00</td>\n",
       "      <td>0.000000</td>\n",
       "      <td>0.000000</td>\n",
       "    </tr>\n",
       "    <tr>\n",
       "      <th>999</th>\n",
       "      <td>NIFTYFUTURE days like this give option buyers ...</td>\n",
       "      <td>1</td>\n",
       "      <td>2022-07-05 05:41:17+00:00</td>\n",
       "      <td>0.555556</td>\n",
       "      <td>0.055556</td>\n",
       "    </tr>\n",
       "  </tbody>\n",
       "</table>\n",
       "<p>1000 rows × 5 columns</p>\n",
       "</div>"
      ],
      "text/plain": [
       "                                                tweets  likes  \\\n",
       "0    : ITC hits a new 52W high, up 7.5%!!\\n\\nitc ni...      0   \n",
       "1    Here is a mid-morning market update for you.\\n...      0   \n",
       "2    NYMEX US CRUDE OIL future head shoulder patter...      0   \n",
       "3    _kontrol: OptionsTrading intradaytrading Stock...      0   \n",
       "4    ITC hits a new 52W high, up 7.5%!!\\n\\nitc nift...      0   \n",
       "..                                                 ...    ...   \n",
       "995  🎁 ONGC \\n\\n➡️ENTRY-127.80\\n\\n☑️ TARGET-132-137...      0   \n",
       "996  Nifty near again to sweet 1️⃣6️⃣0️⃣0️⃣0️⃣. Can...      3   \n",
       "997  _head: NIFTY  CHAVIEW📊 \\n\\n15503 ==&gt; 15999+...      0   \n",
       "998  DRIVERS,,, cautious bump ahead\\n\\ntake care\\nn...      1   \n",
       "999  NIFTYFUTURE days like this give option buyers ...      1   \n",
       "\n",
       "                         time  Subjectivity  Polarity  \n",
       "0   2022-07-05 13:02:07+00:00      0.497273  0.193182  \n",
       "1   2022-07-05 13:01:59+00:00      0.500000  0.000000  \n",
       "2   2022-07-05 13:01:36+00:00      0.562500 -0.350000  \n",
       "3   2022-07-05 12:59:41+00:00      1.000000  0.976562  \n",
       "4   2022-07-05 12:58:36+00:00      0.497273  0.193182  \n",
       "..                        ...           ...       ...  \n",
       "995 2022-07-05 05:42:53+00:00      0.000000  0.000000  \n",
       "996 2022-07-05 05:41:57+00:00      0.318750  0.112500  \n",
       "997 2022-07-05 05:41:40+00:00      0.000000  0.000000  \n",
       "998 2022-07-05 05:41:26+00:00      0.000000  0.000000  \n",
       "999 2022-07-05 05:41:17+00:00      0.555556  0.055556  \n",
       "\n",
       "[1000 rows x 5 columns]"
      ]
     },
     "execution_count": 16,
     "metadata": {},
     "output_type": "execute_result"
    }
   ],
   "source": [
    "df['Subjectivity'] = df['tweets'].apply(getSubjectivity)\n",
    "df['Polarity'] = df['tweets'].apply(getPolarity)\n",
    "\n",
    "df"
   ]
  },
  {
   "cell_type": "markdown",
   "id": "2401dc69",
   "metadata": {},
   "source": [
    "### Creating  a function to compute the positive , negative and neutral analysis"
   ]
  },
  {
   "cell_type": "code",
   "execution_count": 17,
   "id": "c65988ad",
   "metadata": {
    "scrolled": false
   },
   "outputs": [
    {
     "data": {
      "text/html": [
       "<div>\n",
       "<style scoped>\n",
       "    .dataframe tbody tr th:only-of-type {\n",
       "        vertical-align: middle;\n",
       "    }\n",
       "\n",
       "    .dataframe tbody tr th {\n",
       "        vertical-align: top;\n",
       "    }\n",
       "\n",
       "    .dataframe thead th {\n",
       "        text-align: right;\n",
       "    }\n",
       "</style>\n",
       "<table border=\"1\" class=\"dataframe\">\n",
       "  <thead>\n",
       "    <tr style=\"text-align: right;\">\n",
       "      <th></th>\n",
       "      <th>tweets</th>\n",
       "      <th>likes</th>\n",
       "      <th>time</th>\n",
       "      <th>Subjectivity</th>\n",
       "      <th>Polarity</th>\n",
       "      <th>Analysis</th>\n",
       "    </tr>\n",
       "  </thead>\n",
       "  <tbody>\n",
       "    <tr>\n",
       "      <th>0</th>\n",
       "      <td>: ITC hits a new 52W high, up 7.5%!!\\n\\nitc ni...</td>\n",
       "      <td>0</td>\n",
       "      <td>2022-07-05 13:02:07+00:00</td>\n",
       "      <td>0.497273</td>\n",
       "      <td>0.193182</td>\n",
       "      <td>Positive</td>\n",
       "    </tr>\n",
       "    <tr>\n",
       "      <th>1</th>\n",
       "      <td>Here is a mid-morning market update for you.\\n...</td>\n",
       "      <td>0</td>\n",
       "      <td>2022-07-05 13:01:59+00:00</td>\n",
       "      <td>0.500000</td>\n",
       "      <td>0.000000</td>\n",
       "      <td>Neutral</td>\n",
       "    </tr>\n",
       "    <tr>\n",
       "      <th>2</th>\n",
       "      <td>NYMEX US CRUDE OIL future head shoulder patter...</td>\n",
       "      <td>0</td>\n",
       "      <td>2022-07-05 13:01:36+00:00</td>\n",
       "      <td>0.562500</td>\n",
       "      <td>-0.350000</td>\n",
       "      <td>Negative</td>\n",
       "    </tr>\n",
       "    <tr>\n",
       "      <th>3</th>\n",
       "      <td>_kontrol: OptionsTrading intradaytrading Stock...</td>\n",
       "      <td>0</td>\n",
       "      <td>2022-07-05 12:59:41+00:00</td>\n",
       "      <td>1.000000</td>\n",
       "      <td>0.976562</td>\n",
       "      <td>Positive</td>\n",
       "    </tr>\n",
       "    <tr>\n",
       "      <th>4</th>\n",
       "      <td>ITC hits a new 52W high, up 7.5%!!\\n\\nitc nift...</td>\n",
       "      <td>0</td>\n",
       "      <td>2022-07-05 12:58:36+00:00</td>\n",
       "      <td>0.497273</td>\n",
       "      <td>0.193182</td>\n",
       "      <td>Positive</td>\n",
       "    </tr>\n",
       "    <tr>\n",
       "      <th>...</th>\n",
       "      <td>...</td>\n",
       "      <td>...</td>\n",
       "      <td>...</td>\n",
       "      <td>...</td>\n",
       "      <td>...</td>\n",
       "      <td>...</td>\n",
       "    </tr>\n",
       "    <tr>\n",
       "      <th>995</th>\n",
       "      <td>🎁 ONGC \\n\\n➡️ENTRY-127.80\\n\\n☑️ TARGET-132-137...</td>\n",
       "      <td>0</td>\n",
       "      <td>2022-07-05 05:42:53+00:00</td>\n",
       "      <td>0.000000</td>\n",
       "      <td>0.000000</td>\n",
       "      <td>Neutral</td>\n",
       "    </tr>\n",
       "    <tr>\n",
       "      <th>996</th>\n",
       "      <td>Nifty near again to sweet 1️⃣6️⃣0️⃣0️⃣0️⃣. Can...</td>\n",
       "      <td>3</td>\n",
       "      <td>2022-07-05 05:41:57+00:00</td>\n",
       "      <td>0.318750</td>\n",
       "      <td>0.112500</td>\n",
       "      <td>Positive</td>\n",
       "    </tr>\n",
       "    <tr>\n",
       "      <th>997</th>\n",
       "      <td>_head: NIFTY  CHAVIEW📊 \\n\\n15503 ==&amp;gt; 15999+...</td>\n",
       "      <td>0</td>\n",
       "      <td>2022-07-05 05:41:40+00:00</td>\n",
       "      <td>0.000000</td>\n",
       "      <td>0.000000</td>\n",
       "      <td>Neutral</td>\n",
       "    </tr>\n",
       "    <tr>\n",
       "      <th>998</th>\n",
       "      <td>DRIVERS,,, cautious bump ahead\\n\\ntake care\\nn...</td>\n",
       "      <td>1</td>\n",
       "      <td>2022-07-05 05:41:26+00:00</td>\n",
       "      <td>0.000000</td>\n",
       "      <td>0.000000</td>\n",
       "      <td>Neutral</td>\n",
       "    </tr>\n",
       "    <tr>\n",
       "      <th>999</th>\n",
       "      <td>NIFTYFUTURE days like this give option buyers ...</td>\n",
       "      <td>1</td>\n",
       "      <td>2022-07-05 05:41:17+00:00</td>\n",
       "      <td>0.555556</td>\n",
       "      <td>0.055556</td>\n",
       "      <td>Positive</td>\n",
       "    </tr>\n",
       "  </tbody>\n",
       "</table>\n",
       "<p>1000 rows × 6 columns</p>\n",
       "</div>"
      ],
      "text/plain": [
       "                                                tweets  likes  \\\n",
       "0    : ITC hits a new 52W high, up 7.5%!!\\n\\nitc ni...      0   \n",
       "1    Here is a mid-morning market update for you.\\n...      0   \n",
       "2    NYMEX US CRUDE OIL future head shoulder patter...      0   \n",
       "3    _kontrol: OptionsTrading intradaytrading Stock...      0   \n",
       "4    ITC hits a new 52W high, up 7.5%!!\\n\\nitc nift...      0   \n",
       "..                                                 ...    ...   \n",
       "995  🎁 ONGC \\n\\n➡️ENTRY-127.80\\n\\n☑️ TARGET-132-137...      0   \n",
       "996  Nifty near again to sweet 1️⃣6️⃣0️⃣0️⃣0️⃣. Can...      3   \n",
       "997  _head: NIFTY  CHAVIEW📊 \\n\\n15503 ==&gt; 15999+...      0   \n",
       "998  DRIVERS,,, cautious bump ahead\\n\\ntake care\\nn...      1   \n",
       "999  NIFTYFUTURE days like this give option buyers ...      1   \n",
       "\n",
       "                         time  Subjectivity  Polarity  Analysis  \n",
       "0   2022-07-05 13:02:07+00:00      0.497273  0.193182  Positive  \n",
       "1   2022-07-05 13:01:59+00:00      0.500000  0.000000   Neutral  \n",
       "2   2022-07-05 13:01:36+00:00      0.562500 -0.350000  Negative  \n",
       "3   2022-07-05 12:59:41+00:00      1.000000  0.976562  Positive  \n",
       "4   2022-07-05 12:58:36+00:00      0.497273  0.193182  Positive  \n",
       "..                        ...           ...       ...       ...  \n",
       "995 2022-07-05 05:42:53+00:00      0.000000  0.000000   Neutral  \n",
       "996 2022-07-05 05:41:57+00:00      0.318750  0.112500  Positive  \n",
       "997 2022-07-05 05:41:40+00:00      0.000000  0.000000   Neutral  \n",
       "998 2022-07-05 05:41:26+00:00      0.000000  0.000000   Neutral  \n",
       "999 2022-07-05 05:41:17+00:00      0.555556  0.055556  Positive  \n",
       "\n",
       "[1000 rows x 6 columns]"
      ]
     },
     "execution_count": 17,
     "metadata": {},
     "output_type": "execute_result"
    }
   ],
   "source": [
    "def getAnalysis(score):\n",
    "    if score>0:\n",
    "        return 'Positive'\n",
    "    elif score == 0 :\n",
    "        return 'Neutral'\n",
    "    else:\n",
    "        return 'Negative'\n",
    "df['Analysis']= df['Polarity'].apply(getAnalysis)\n",
    "df"
   ]
  },
  {
   "cell_type": "markdown",
   "id": "13566f57",
   "metadata": {},
   "source": [
    "### Ploting the polarity and subjectivity"
   ]
  },
  {
   "cell_type": "code",
   "execution_count": 18,
   "id": "ce6bd89e",
   "metadata": {
    "scrolled": false
   },
   "outputs": [
    {
     "data": {
      "image/png": "[encoded data removed]",
      "text/plain": [
       "<Figure size 576x432 with 1 Axes>"
      ]
     },
     "metadata": {
      "needs_background": "light"
     },
     "output_type": "display_data"
    }
   ],
   "source": [
    "plt.figure(figsize=(8,6))\n",
    "for i in range (0,df.shape[0]):\n",
    "    plt.scatter(df['Polarity'][i],df['Subjectivity'][i], color = 'Green')\n",
    "plt.title('Sentiment Analysis')\n",
    "plt.xlabel('Polarity')\n",
    "plt.ylabel('Subjectivity')\n",
    "plt.grid()\n",
    "plt.show()"
   ]
  },
  {
   "cell_type": "markdown",
   "id": "523edd99",
   "metadata": {},
   "source": [
    "### Showing the value count"
   ]
  },
  {
   "cell_type": "code",
   "execution_count": 19,
   "id": "e4f3294d",
   "metadata": {},
   "outputs": [
    {
     "data": {
      "text/plain": [
       "Positive    452\n",
       "Neutral     428\n",
       "Negative    120\n",
       "Name: Analysis, dtype: int64"
      ]
     },
     "execution_count": 19,
     "metadata": {},
     "output_type": "execute_result"
    }
   ],
   "source": [
    "df['Analysis'].value_counts()"
   ]
  },
  {
   "cell_type": "markdown",
   "id": "726a419c",
   "metadata": {},
   "source": [
    "### Ploting and Visualizing the value count"
   ]
  },
  {
   "cell_type": "code",
   "execution_count": 20,
   "id": "36a44901",
   "metadata": {},
   "outputs": [
    {
     "data": {
      "image/png": "[encoded data removed]",
      "text/plain": [
       "<Figure size 432x288 with 1 Axes>"
      ]
     },
     "metadata": {},
     "output_type": "display_data"
    }
   ],
   "source": [
    "plt.title('Sentiment Analysis')\n",
    "df['Analysis'].value_counts().plot(kind='pie',autopct='%1.1f%%')\n",
    "plt.show()"
   ]
  },
  {
   "cell_type": "code",
   "execution_count": null,
   "id": "0212a25c",
   "metadata": {},
   "outputs": [],
   "source": []
  }
 ],
 "metadata": {
  "kernelspec": {
   "display_name": "Python 3 (ipykernel)",
   "language": "python",
   "name": "python3"
  },
  "language_info": {
   "codemirror_mode": {
    "name": "ipython",
    "version": 3
   },
   "file_extension": ".py",
   "mimetype": "text/x-python",
   "name": "python",
   "nbconvert_exporter": "python",
   "pygments_lexer": "ipython3",
   "version": "3.9.7"
  }
 },
 "nbformat": 4,
 "nbformat_minor": 5
}
